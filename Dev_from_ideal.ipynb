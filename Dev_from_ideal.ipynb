{
 "cells": [
  {
   "cell_type": "markdown",
   "id": "ff20953c",
   "metadata": {},
   "source": [
    "## Import Lib"
   ]
  },
  {
   "cell_type": "code",
   "execution_count": null,
   "id": "b592ba06",
   "metadata": {},
   "outputs": [],
   "source": [
    "import pandas as pd\n",
    "import os\n",
    "from func import *\n",
    "import warnings\n",
    "warnings.filterwarnings('ignore')"
   ]
  },
  {
   "cell_type": "markdown",
   "id": "bd046b05",
   "metadata": {},
   "source": [
    "## Load data and convert date column to datetime type"
   ]
  },
  {
   "cell_type": "code",
   "execution_count": null,
   "id": "fac04de2",
   "metadata": {},
   "outputs": [],
   "source": [
    "log = pd.read_csv('normal_log.csv', sep=';')\n",
    "log[\"time\"] = pd.to_datetime(log[\"time\"], format=\"%Y-%m-%d %H:%M:%S\")"
   ]
  },
  {
   "cell_type": "markdown",
   "id": "ee02a0c7",
   "metadata": {},
   "source": [
    "## Specify column name"
   ]
  },
  {
   "cell_type": "code",
   "execution_count": null,
   "id": "653d6ce3",
   "metadata": {},
   "outputs": [],
   "source": [
    "id_col_name = \"ids\"\n",
    "activity_col_name = \"events\"\n",
    "time_col_name = \"time\""
   ]
  },
  {
   "cell_type": "markdown",
   "id": "d0861307",
   "metadata": {},
   "source": [
    "## Define the ideal process"
   ]
  },
  {
   "cell_type": "code",
   "execution_count": null,
   "id": "04b69951",
   "metadata": {},
   "outputs": [],
   "source": [
    "%%time\n",
    "top_121_sequences = get_top_chain_sequences(log, id_col_name, activity_col_name, time_col_name, seq_count_tresh = 121)"
   ]
  },
  {
   "cell_type": "markdown",
   "id": "da36aa92",
   "metadata": {},
   "source": [
    "## Set the chain number as an ideal sequence"
   ]
  },
  {
   "cell_type": "code",
   "execution_count": null,
   "id": "cb9ce441",
   "metadata": {},
   "outputs": [],
   "source": [
    "chain_number = 2\n",
    "ideal_seq = [\"start\"]+list(top_121_sequences[top_121_sequences[\"ChainNumber\"]\\\n",
    "                                             ==chain_number][\"EventName\"].values)+[\"end\"]\n",
    "ideal_edges = [(str(ideal_seq[i]), str(ideal_seq[i+1])) for i in range(len(ideal_seq)-1)]"
   ]
  },
  {
   "cell_type": "markdown",
   "id": "9fec3227",
   "metadata": {},
   "source": [
    "## Calculate simple statistics"
   ]
  },
  {
   "cell_type": "code",
   "execution_count": null,
   "id": "fec6fa7b",
   "metadata": {},
   "outputs": [],
   "source": [
    "%%time\n",
    "median_d, counts_d = get_first_statistics(log, id_col_name, activity_col_name, time_col_name)"
   ]
  },
  {
   "cell_type": "code",
   "execution_count": null,
   "id": "223b8416",
   "metadata": {},
   "outputs": [],
   "source": [
    "median_d"
   ]
  },
  {
   "cell_type": "markdown",
   "id": "d25fe0fa",
   "metadata": {},
   "source": [
    "## Form information data for building graph"
   ]
  },
  {
   "cell_type": "code",
   "execution_count": null,
   "id": "9fb5299d",
   "metadata": {},
   "outputs": [],
   "source": [
    "%%time\n",
    "info_dict, colors_d, width_d = get_info_dict(ideal_seq, ideal_edges, median_d, counts_d)"
   ]
  },
  {
   "cell_type": "markdown",
   "id": "9f5e37b4",
   "metadata": {},
   "source": [
    "## Create interactive graph in html file"
   ]
  },
  {
   "cell_type": "code",
   "execution_count": null,
   "id": "b06532eb",
   "metadata": {},
   "outputs": [],
   "source": [
    "create_html(info_dict, colors_d, width_d, html_name=\"Example_graph\")"
   ]
  }
 ],
 "metadata": {
  "kernelspec": {
   "display_name": "Python 3",
   "language": "python",
   "name": "python3"
  },
  "language_info": {
   "codemirror_mode": {
    "name": "ipython",
    "version": 3
   },
   "file_extension": ".py",
   "mimetype": "text/x-python",
   "name": "python",
   "nbconvert_exporter": "python",
   "pygments_lexer": "ipython3",
   "version": "3.6.8"
  }
 },
 "nbformat": 4,
 "nbformat_minor": 5
}
